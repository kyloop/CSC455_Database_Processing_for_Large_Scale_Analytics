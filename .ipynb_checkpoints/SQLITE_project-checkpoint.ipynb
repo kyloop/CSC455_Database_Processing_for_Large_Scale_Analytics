{
 "cells": [
  {
   "cell_type": "markdown",
   "metadata": {},
   "source": [
    "#CSC 455 Final Project\n",
    "#Spring 2017\n",
    "#Data: Jun 09, 2017"
   ]
  },
  {
   "cell_type": "markdown",
   "metadata": {
    "collapsed": true
   },
   "source": [
    "## Function loadTweets which is used in the throughout the following process to load the Tweets into sqlite DB."
   ]
  },
  {
   "cell_type": "code",
   "execution_count": 1,
   "metadata": {
    "collapsed": true
   },
   "outputs": [],
   "source": [
    "def loadTweets(tweetLines, batchRows):\n",
    "\n",
    "    # Collect multiple rows so that we can use \"executemany\".\n",
    "    # We insert batchRows records at a time in this function.\n",
    "    #batchRows = 0\n",
    "    batchedInserts_tweet = []\n",
    "    batchedInserts_user = []\n",
    "    batchedInserts_geo = []\n",
    "\n",
    "\n",
    "\n",
    "    # as long as there is at least one line remaining\n",
    "    while len(tweetLines) > 0:\n",
    "        line = tweetLines.pop(0) # take off the first element from the list, removing it\n",
    "\n",
    "        tweetDict = json.loads(line)\n",
    "\n",
    "        newRow = [] # hold individual values of to-be-inserted row\n",
    "        newRow2=[]\n",
    "\n",
    "\n",
    "        tweetKeys = ['created_at','id_str','text','source','in_reply_to_user_id',\n",
    "                     'in_reply_to_screen_name', 'in_reply_to_status_id', \n",
    "                     'retweet_count', 'contributors']\n",
    "        userKeys = ['id','name','screen_name','description', 'friends_count']\n",
    "        #geoKeys = ['type','longitude','lattitude']\n",
    "\n",
    "        for key in tweetKeys:\n",
    "            # Treat '', [] and 'null' as NULL\n",
    "            if tweetDict[key] in ['',[],'null']:\n",
    "                newRow.append(None)\n",
    "            else:\n",
    "                newRow.append(tweetDict[key])\n",
    "        \n",
    "        for key in userKeys:\n",
    "            #print(tweetDict['user'][key])\n",
    "            if tweetDict['user'][key] in ['',[],'null']:\n",
    "                newRow.append(None)\n",
    "            else:             \n",
    "                newRow.append(tweetDict['user'][key])\n",
    "        \n",
    "       \n",
    "    \n",
    "        if tweetDict['geo'] !=None:    \n",
    "            newRow2.append(newRow[9])\n",
    "            newRow2.append(newRow[1])\n",
    "            newRow2.append(tweetDict['geo']['coordinates'][0])\n",
    "            newRow2.append(tweetDict['geo']['coordinates'][1])\n",
    "            newRow2.append(tweetDict['geo']['type'])\n",
    "        else:\n",
    "            newRow2.append(newRow[9])\n",
    "            newRow2.append(newRow[1])\n",
    "            newRow2.append(None)\n",
    "            newRow2.append(None)        \n",
    "            newRow2.append(None)\n",
    "        \n",
    "            \n",
    "\n",
    "        #print(newRow[0:10])\n",
    "        #print(newRow[9:14])\n",
    "        #print(len(newRow))\n",
    "\n",
    "        # Add the new row to the collected batch\n",
    "        batchedInserts_tweet.append(newRow[0:10])\n",
    "        batchedInserts_user.append(newRow[9:14])\n",
    "        batchedInserts_geo.append(newRow2)\n",
    "        \n",
    "\n",
    "        #print(batchedInserts_geo)\n",
    "\n",
    "        \n",
    "        \n",
    "        # If we have reached # of batchRows, use executemany to insert what we collected\n",
    "        # so far, and reset the batchedInserts list back to empty\n",
    "        if len(batchedInserts_tweet) >= batchRows or len(tweetLines) == 0:\n",
    "            c.executemany('INSERT or IGNORE INTO Tweet VALUES(?,?,?,?,?,?,?,?,?,?)', batchedInserts_tweet)\n",
    "            c.executemany('INSERT or IGNORE INTO User VALUES (?,?,?,?,?)', batchedInserts_user)\n",
    "            c.executemany('INSERT or IGNORE INTO Geo VALUES (?,?,?,?,?)', batchedInserts_geo)\n",
    "            \n",
    "            # Reset the batching process\n",
    "            batchedInserts_tweet = []\n",
    "            batchedInserts_user = []\n",
    "            batchedInserts_geo = []\n"
   ]
  },
  {
   "cell_type": "markdown",
   "metadata": {},
   "source": [
    "#Problem 1-a:\n",
    "##Create Tables (Tweet, User, Geo)"
   ]
  },
  {
   "cell_type": "code",
   "execution_count": 2,
   "metadata": {
    "collapsed": true
   },
   "outputs": [],
   "source": [
    "# Problem 1-a:\n",
    "#Create Table Tweet from Assignment 4 & 5\n",
    "#Primary key is id_str which represent every unique tweet\n",
    "tw='''Create Table Tweet(\n",
    "\n",
    "    created_at DATE,\n",
    "    id_str VARCHAR(20),\n",
    "    text VARCHAR(100),\n",
    "    source VARCHAR(100),\n",
    "    in_reply_to_user_id VARCHAR(20),\n",
    "    in_reply_to_screen_name VARCHAR(20),\n",
    "    in_reply_to_status_id VARCHAR(20),\n",
    "    retweet_count INTEGER(5),\n",
    "    contributors VARCHAR(10),\n",
    "    user_id VARCHAR(20),\n",
    "    \n",
    "    CONsTRAINT Tweet_PK\n",
    "        PRIMARY KEY (id_str),\n",
    "    \n",
    "    CONSTRAINT Tweet_FK\n",
    "        FOREIGN KEY (user_id)\n",
    "        REFERENCES User(id),\n",
    "     \n",
    "    CONSTRAINT Tweet_FK_2\n",
    "        FOREIGN KEY (id_Str)\n",
    "        REFERENCES Geo(id_str)\n",
    "   \n",
    ")\n",
    "'''\n",
    "\n",
    "#Create Table User \n",
    "#The primary key is (id).\n",
    "user='''Create Table User(\n",
    "    id VARCHAR(20),\n",
    "    name VARCHAR(30),\n",
    "    screen_name VARCHAR(100),\n",
    "    description VARCHAR(100),\n",
    "    friends_count INTEGER(5),\n",
    "    \n",
    "    Constraint User_PK\n",
    "        PRIMARY KEY (id)\n",
    ")\n",
    "'''\n",
    "\n",
    "#Create Table Geo\n",
    "#Primary Keys is defined as (User_ID, id_str). The assumption is each user could have more than one tweet,\n",
    "#and users are allowed to retweet themselves' tweet. So that each tweet(id_str) ties to one user with one \n",
    "#or morecoordinates (latitude, longitude).\n",
    "geo='''Create Table Geo(\n",
    "    user_id VARCHAR(20),\n",
    "    id_str VARCHAR(20),\n",
    "    latitude integer(20),\n",
    "    longitude integer(20),\n",
    "    type VARCHAR(20),\n",
    "    \n",
    "    CONSTRAINT Geo_PK\n",
    "        PRIMARY KEY (user_id,id_str),\n",
    "    \n",
    "    CONSTRAINT Geo_FK\n",
    "        FOREIGN KEY (user_id)\n",
    "        REFERENCES User(id)\n",
    ")\n",
    "'''"
   ]
  },
  {
   "cell_type": "code",
   "execution_count": 3,
   "metadata": {
    "collapsed": true
   },
   "outputs": [],
   "source": [
    "#Problem 1-a:\n",
    "import sqlite3\n",
    "from sqlite3 import OperationalError\n",
    "\n",
    "conn=sqlite3.connect('zFinal.db')\n",
    "c=conn.cursor()\n",
    "\n",
    "c.execute('Drop Table if exists Tweet;')\n",
    "c.execute(tw)\n",
    "c.execute('Drop Table if exists User;')\n",
    "c.execute(user)\n",
    "c.execute('Drop Table if exists Geo;')\n",
    "c.execute(geo)\n",
    "\n",
    "conn.commit()\n",
    "conn.close()"
   ]
  },
  {
   "cell_type": "markdown",
   "metadata": {},
   "source": [
    "#Problem 1-b:\n",
    "##Use Python to Download and Save to at least 1 million line local text file (ztweet.txt)/n\n",
    "##Total Runtime is 634.27sec"
   ]
  },
  {
   "cell_type": "code",
   "execution_count": 4,
   "metadata": {
    "collapsed": true
   },
   "outputs": [],
   "source": [
    "#Problem 1-b\n",
    "import urllib, time, json, sqlite3\n",
    "wFD = urllib.request.urlopen('http://rasinsrv07.cstcis.cti.depaul.edu/CSC455/OneDayOfTweets.txt')"
   ]
  },
  {
   "cell_type": "code",
   "execution_count": 5,
   "metadata": {},
   "outputs": [
    {
     "name": "stdout",
     "output_type": "stream",
     "text": [
      "Total used time: 634.2729008197784\n"
     ]
    }
   ],
   "source": [
    "#Problem 1-b\n",
    "count=0\n",
    "tweet_lst=[]\n",
    "#Record the Start time\n",
    "start= time.time()\n",
    "with open('ztweet.txt', 'a') as file: #Open the txt file to record the downloaded tweet\n",
    "    while count < 1000000: #Record 1 milliion tweet\n",
    "        content=wFD.readline() #Read Line by line\n",
    "        content=content.decode() #decode all the tweet \n",
    "        try:\n",
    "            json.loads(content) # Check if Tweet line is damaged\n",
    "            print(content,file=file) #Store the tweet to the ztweet.txt file\n",
    "            count+=1 #Count the number of tweet storeing\n",
    "        except ValueError:#Error for damaged tweet:\n",
    "            pass\n",
    "    \n",
    "\n",
    "end=time.time() #End the record of time\n",
    "wFD.close() \n",
    "file.close()\n",
    "\n",
    "print(\"Total used time:\", str(end-start)) #Print out the time comsuming for the Load and Write process"
   ]
  },
  {
   "cell_type": "markdown",
   "metadata": {},
   "source": [
    "#Problem 1-c: \n",
    "##Use Python to Download and populate the sqlite tables (Tweet, User, Geo)\n",
    "\n",
    "##The total runtime is Total used time:  1218.14sec"
   ]
  },
  {
   "cell_type": "code",
   "execution_count": 6,
   "metadata": {
    "collapsed": true
   },
   "outputs": [],
   "source": [
    "#Problem 1-c:\n",
    "import sqlite3\n",
    "from sqlite3 import OperationalError\n",
    "\n",
    "conn=sqlite3.connect('zFinal.db')\n",
    "c=conn.cursor()\n",
    "c.execute('Drop Table if exists Tweet;')\n",
    "c.execute(tw)\n",
    "c.execute('Drop Table if exists User;')\n",
    "c.execute(user)\n",
    "c.execute('Drop Table if exists Geo;')\n",
    "c.execute(geo)\n",
    "\n",
    "conn.commit()"
   ]
  },
  {
   "cell_type": "code",
   "execution_count": 7,
   "metadata": {
    "collapsed": true
   },
   "outputs": [],
   "source": [
    "#Problem 1-c\n",
    "import urllib, time, json, sqlite3\n",
    "wFD = urllib.request.urlopen('http://rasinsrv07.cstcis.cti.depaul.edu/CSC455/OneDayOfTweets.txt')"
   ]
  },
  {
   "cell_type": "code",
   "execution_count": 8,
   "metadata": {},
   "outputs": [
    {
     "name": "stdout",
     "output_type": "stream",
     "text": [
      "Total used time: 1218.1382160186768\n"
     ]
    }
   ],
   "source": [
    "#Problem 1-c\n",
    "count=0\n",
    "fail_count=0\n",
    "tweet_lst=[]\n",
    "#Record the Start time\n",
    "start= time.time()\n",
    "\n",
    "while count < 1000000: #Record 1 milliion tweet\n",
    "    content=wFD.readline() #Read Line by line\n",
    "    content=content.decode() #decode all the tweet \n",
    "    # Check if Tweet line is damaged\n",
    "    try: \n",
    "        json.loads(content) \n",
    "        tweet_lst.append(content) #Store the tweet to the ztweet.txt file\n",
    "        count+=1 #Count the number of tweet storeing\n",
    "    except ValueError:#Error for damaged tweet:\n",
    "        fail_count+=1\n",
    "        pass\n",
    "\n",
    "#With ZERO batchRows\n",
    "loadTweets(tweet_lst,batchRows=0)\n",
    "\n",
    "end=time.time() #End the record of time\n",
    "\n",
    "conn.commit()\n",
    "conn.close()    \n",
    "wFD.close() \n",
    "\n",
    "\n",
    "print(\"Total used time:\", str(end-start)) #Print out the time comsuming for the Load and Write process"
   ]
  },
  {
   "cell_type": "code",
   "execution_count": 9,
   "metadata": {
    "collapsed": true
   },
   "outputs": [],
   "source": [
    "conn=sqlite3.connect('zFinal.db')\n",
    "c=conn.cursor()"
   ]
  },
  {
   "cell_type": "code",
   "execution_count": 10,
   "metadata": {},
   "outputs": [
    {
     "data": {
      "text/plain": [
       "[(999553,)]"
      ]
     },
     "execution_count": 10,
     "metadata": {},
     "output_type": "execute_result"
    }
   ],
   "source": [
    "#Total Record of tweet table\n",
    "c.execute(\"select count(*) from tweet\").fetchall()"
   ]
  },
  {
   "cell_type": "code",
   "execution_count": 11,
   "metadata": {},
   "outputs": [
    {
     "data": {
      "text/plain": [
       "[(855488,)]"
      ]
     },
     "execution_count": 11,
     "metadata": {},
     "output_type": "execute_result"
    }
   ],
   "source": [
    "#Total Record of User Table\n",
    "c.execute(\"select count(*) from user\").fetchall()"
   ]
  },
  {
   "cell_type": "code",
   "execution_count": 13,
   "metadata": {},
   "outputs": [
    {
     "data": {
      "text/plain": [
       "[(999553,)]"
      ]
     },
     "execution_count": 13,
     "metadata": {},
     "output_type": "execute_result"
    }
   ],
   "source": [
    "#Total Record of Geo Table\n",
    "c.execute(\"select count(*) from geo;\").fetchall()"
   ]
  },
  {
   "cell_type": "code",
   "execution_count": 15,
   "metadata": {
    "collapsed": true
   },
   "outputs": [],
   "source": [
    "conn.commit()\n",
    "conn.close()"
   ]
  },
  {
   "cell_type": "markdown",
   "metadata": {},
   "source": [
    "#Problem 1-d:\n",
    "##Populate the SQL table from the local tweet table\n",
    "\n",
    "##The Performance of 1d.(664.57sec) is better than 1c.(1218.14sec)"
   ]
  },
  {
   "cell_type": "code",
   "execution_count": 29,
   "metadata": {
    "collapsed": true
   },
   "outputs": [],
   "source": [
    "#Problem 1-d:\n",
    "import sqlite3\n",
    "from sqlite3 import OperationalError\n",
    "\n",
    "conn=sqlite3.connect('zFinal.db')\n",
    "c=conn.cursor()\n",
    "\n",
    "c.execute('Drop Table if exists Tweet;')\n",
    "c.execute(tw)\n",
    "c.execute('Drop Table if exists User;')\n",
    "c.execute(user)\n",
    "c.execute('Drop Table if exists Geo;')\n",
    "c.execute(geo)\n",
    "\n",
    "conn.commit()"
   ]
  },
  {
   "cell_type": "code",
   "execution_count": 30,
   "metadata": {},
   "outputs": [
    {
     "name": "stdout",
     "output_type": "stream",
     "text": [
      "Total used time: 664.57026720047\n"
     ]
    }
   ],
   "source": [
    "#Question 1-d:\n",
    "\n",
    "import urllib, time, json, sqlite3\n",
    "import pprint\n",
    "\n",
    "\n",
    "\n",
    "start= time.time()\n",
    "source=open(\"ztweet.txt\",'r')\n",
    "tweet_lst=[]\n",
    "count=0\n",
    "while count<1000000:\n",
    "    try:\n",
    "        line=source.readline()\n",
    "        if not line.isspace():    \n",
    "            tweet_lst.append(line)\n",
    "            count+=1\n",
    "    except ValueError:\n",
    "        pass\n",
    "#With ZERO batchRows\n",
    "loadTweets(tweet_lst,batchRows=0)\n",
    "\n",
    "end=time.time()\n",
    "\n",
    "conn.commit()\n",
    "conn.close()\n",
    "\n",
    "print(\"Total used time:\", str(end-start)) #Print out the time comsuming for the Load and Write process"
   ]
  },
  {
   "cell_type": "code",
   "execution_count": 31,
   "metadata": {
    "collapsed": true
   },
   "outputs": [],
   "source": [
    "conn=sqlite3.connect('zFinal.db')\n",
    "c=conn.cursor()"
   ]
  },
  {
   "cell_type": "code",
   "execution_count": 32,
   "metadata": {},
   "outputs": [
    {
     "data": {
      "text/plain": [
       "[(999553,)]"
      ]
     },
     "execution_count": 32,
     "metadata": {},
     "output_type": "execute_result"
    }
   ],
   "source": [
    "c.execute(\"select count(*) from tweet;\").fetchall()"
   ]
  },
  {
   "cell_type": "code",
   "execution_count": 33,
   "metadata": {},
   "outputs": [
    {
     "data": {
      "text/plain": [
       "[(855488,)]"
      ]
     },
     "execution_count": 33,
     "metadata": {},
     "output_type": "execute_result"
    }
   ],
   "source": [
    "c.execute(\"select count(*) from user;\").fetchall()"
   ]
  },
  {
   "cell_type": "code",
   "execution_count": 34,
   "metadata": {},
   "outputs": [
    {
     "data": {
      "text/plain": [
       "[(999553,)]"
      ]
     },
     "execution_count": 34,
     "metadata": {},
     "output_type": "execute_result"
    }
   ],
   "source": [
    "c.execute(\"select count(*) from geo;\").fetchall()"
   ]
  },
  {
   "cell_type": "code",
   "execution_count": 35,
   "metadata": {
    "collapsed": true
   },
   "outputs": [],
   "source": [
    "conn.commit()\n",
    "conn.close()"
   ]
  },
  {
   "cell_type": "markdown",
   "metadata": {},
   "source": [
    "#Question 1-e: \n",
    "##Repeat 1d by using batching size 1000\n",
    "\n",
    "##By comparing to part 1d.(664.57sec), the part 1e.( 568.22sec) is about 16% faster than part 1d."
   ]
  },
  {
   "cell_type": "code",
   "execution_count": 36,
   "metadata": {
    "collapsed": true
   },
   "outputs": [],
   "source": [
    "#Problem 1-e:\n",
    "import sqlite3\n",
    "from sqlite3 import OperationalError\n",
    "\n",
    "conn=sqlite3.connect('zFinal.db')\n",
    "c=conn.cursor()\n",
    "\n",
    "c.execute('Drop Table if exists Tweet;')\n",
    "c.execute(tw)\n",
    "c.execute('Drop Table if exists User;')\n",
    "c.execute(user)\n",
    "c.execute('Drop Table if exists Geo;')\n",
    "c.execute(geo)\n",
    "\n",
    "conn.commit()"
   ]
  },
  {
   "cell_type": "code",
   "execution_count": 37,
   "metadata": {},
   "outputs": [
    {
     "name": "stdout",
     "output_type": "stream",
     "text": [
      "Total used time: 568.2185599803925\n"
     ]
    }
   ],
   "source": [
    "#Question 1-e: Re-run 1-d with batching size of 1000\n",
    "\n",
    "import urllib, time, json, sqlite3\n",
    "import pprint\n",
    "\n",
    "start= time.time()\n",
    "source=open(\"ztweet.txt\",'r')\n",
    "tweet_lst=[]\n",
    "count=0\n",
    "while count<1000000: \n",
    "    try:\n",
    "        line=source.readline()\n",
    "        if not line.isspace():    \n",
    "            tweet_lst.append(line)\n",
    "            count+=1\n",
    "    except ValueError:\n",
    "        pass\n",
    "\n",
    "#With BatchRows 1000\n",
    "loadTweets(tweet_lst,batchRows=1000)\n",
    "end=time.time()\n",
    "\n",
    "conn.commit()\n",
    "conn.close()\n",
    "print(\"Total used time:\", str(end-start)) #Print out the time comsuming for the Load and Write process"
   ]
  },
  {
   "cell_type": "code",
   "execution_count": 38,
   "metadata": {
    "collapsed": true
   },
   "outputs": [],
   "source": [
    "conn=sqlite3.connect('zFinal.db')\n",
    "c=conn.cursor()"
   ]
  },
  {
   "cell_type": "code",
   "execution_count": 39,
   "metadata": {},
   "outputs": [
    {
     "data": {
      "text/plain": [
       "[(999553,)]"
      ]
     },
     "execution_count": 39,
     "metadata": {},
     "output_type": "execute_result"
    }
   ],
   "source": [
    "c.execute(\"select count(*) from tweet;\").fetchall()"
   ]
  },
  {
   "cell_type": "code",
   "execution_count": 40,
   "metadata": {},
   "outputs": [
    {
     "data": {
      "text/plain": [
       "[(855488,)]"
      ]
     },
     "execution_count": 40,
     "metadata": {},
     "output_type": "execute_result"
    }
   ],
   "source": [
    "c.execute(\"select count(*) from user;\").fetchall()"
   ]
  },
  {
   "cell_type": "code",
   "execution_count": 41,
   "metadata": {},
   "outputs": [
    {
     "data": {
      "text/plain": [
       "[(999553,)]"
      ]
     },
     "execution_count": 41,
     "metadata": {},
     "output_type": "execute_result"
    }
   ],
   "source": [
    "c.execute(\"select count(*) from geo;\").fetchall()"
   ]
  },
  {
   "cell_type": "code",
   "execution_count": 42,
   "metadata": {
    "collapsed": true
   },
   "outputs": [],
   "source": [
    "conn.commit()\n",
    "conn.close()"
   ]
  },
  {
   "cell_type": "markdown",
   "metadata": {},
   "source": [
    "#Question 2a-i:"
   ]
  },
  {
   "cell_type": "code",
   "execution_count": 43,
   "metadata": {},
   "outputs": [
    {
     "name": "stdout",
     "output_type": "stream",
     "text": [
      "The Total count of tweet's id_str with 44 or 77 is  222673\n",
      "Total used time: 0.9997780323028564\n"
     ]
    }
   ],
   "source": [
    "import sqlite3,time\n",
    "from sqlite3 import OperationalError\n",
    "\n",
    "conn=sqlite3.connect('zFinal.db')\n",
    "c=conn.cursor()\n",
    "\n",
    "\n",
    "start=time.time()\n",
    "data=c.execute(\"select id_str from tweet where (id_str LIKE ('%44%') or id_str LIKE('%77%') );\").fetchall()\n",
    "#for line in data:\n",
    "    #print(line) \n",
    "end=time.time()\n",
    "\n",
    "conn.commit()\n",
    "conn.close()\n",
    "\n",
    "print(\"The Total count of tweet's id_str with 44 or 77 is \", str(len(data)))\n",
    "print(\"Total used time:\", str(end-start)) #Print out the time comsuming for the Load and Write process"
   ]
  },
  {
   "cell_type": "code",
   "execution_count": 44,
   "metadata": {},
   "outputs": [
    {
     "data": {
      "text/plain": [
       "[('471807727509831681',),\n",
       " ('471807727509848064',),\n",
       " ('471807727509856256',),\n",
       " ('471807727510233088',),\n",
       " ('471807727510241280',),\n",
       " ('471807727510249472',),\n",
       " ('471807727510257664',),\n",
       " ('471807727514025984',),\n",
       " ('471807727514038272',),\n",
       " ('471807727514050560',)]"
      ]
     },
     "execution_count": 44,
     "metadata": {},
     "output_type": "execute_result"
    }
   ],
   "source": [
    "#Double check 10 rows of the id_str values with 44 or 77 in it.\n",
    "data[11370:11380]"
   ]
  },
  {
   "cell_type": "markdown",
   "metadata": {},
   "source": [
    "#Question 2a-ii:"
   ]
  },
  {
   "cell_type": "code",
   "execution_count": 45,
   "metadata": {},
   "outputs": [
    {
     "name": "stdout",
     "output_type": "stream",
     "text": [
      "The Total unique values is  180406\n",
      "Total used time: 4.240503787994385\n"
     ]
    }
   ],
   "source": [
    "import sqlite3,time\n",
    "from sqlite3 import OperationalError\n",
    "\n",
    "conn=sqlite3.connect('zFinal.db')\n",
    "c=conn.cursor()\n",
    "\n",
    "start=time.time()\n",
    "data=c.execute(\"select distinct(in_reply_to_user_id) from Tweet;\").fetchall()\n",
    "\n",
    "#for line in data:\n",
    " #   print(line)\n",
    "end=time.time()\n",
    "\n",
    "conn.commit()\n",
    "conn.close()\n",
    "\n",
    "print(\"The Total unique values is \", str(len(data)))\n",
    "print(\"Total used time:\", str(end-start))"
   ]
  },
  {
   "cell_type": "code",
   "execution_count": 46,
   "metadata": {},
   "outputs": [
    {
     "data": {
      "text/plain": [
       "[('702870150',),\n",
       " ('2235132138',),\n",
       " ('291687597',),\n",
       " ('689183',),\n",
       " ('2520663553',),\n",
       " ('782438882',),\n",
       " ('1198988510',),\n",
       " ('2298064916',),\n",
       " ('910499400',),\n",
       " ('403773119',)]"
      ]
     },
     "execution_count": 46,
     "metadata": {},
     "output_type": "execute_result"
    }
   ],
   "source": [
    "#Double check the unique in_reply_to_user_id\n",
    "data[1678:1688]"
   ]
  },
  {
   "cell_type": "markdown",
   "metadata": {},
   "source": [
    "#Question 2a-iii:\n",
    "##Tweet with Shortest text message"
   ]
  },
  {
   "cell_type": "code",
   "execution_count": 47,
   "metadata": {},
   "outputs": [
    {
     "name": "stdout",
     "output_type": "stream",
     "text": [
      "The Total users have min length of text message is   947\n",
      "Total used time: 1.2326669692993164\n"
     ]
    }
   ],
   "source": [
    "import sqlite3,time\n",
    "from sqlite3 import OperationalError\n",
    "\n",
    "conn=sqlite3.connect('zFinal.db')\n",
    "c=conn.cursor()\n",
    "\n",
    "#Shortest Text message\n",
    "start=time.time()\n",
    "data=c.execute(\"select id_str,text from tweet where length(text)<=(select min(length(text)) from tweet);\").fetchall()\n",
    "end=time.time()\n",
    "\n",
    "conn.commit()\n",
    "conn.close()\n",
    "\n",
    "print(\"The Total users have min length of text message is  \", str(len(data)))\n",
    "print(\"Total used time:\", str(end-start))"
   ]
  },
  {
   "cell_type": "code",
   "execution_count": 48,
   "metadata": {},
   "outputs": [
    {
     "data": {
      "text/plain": [
       "[('471865181107003392', '.'),\n",
       " ('471865231421886466', '雷'),\n",
       " ('471865273377488898', '😂'),\n",
       " ('471865298547527680', '🔓'),\n",
       " ('471865529221648384', '✌'),\n",
       " ('471865554408443904', '😫'),\n",
       " ('471865655059156992', '%'),\n",
       " ('471865676039081984', 'で'),\n",
       " ('471865873137807361', '?'),\n",
       " ('471865961243361280', '😶')]"
      ]
     },
     "execution_count": 48,
     "metadata": {},
     "output_type": "execute_result"
    }
   ],
   "source": [
    "#Double check the minimum length of text message\n",
    "data[782:792]"
   ]
  },
  {
   "cell_type": "markdown",
   "metadata": {
    "collapsed": true
   },
   "source": [
    "##Tweet with Longest text message"
   ]
  },
  {
   "cell_type": "code",
   "execution_count": 50,
   "metadata": {},
   "outputs": [
    {
     "name": "stdout",
     "output_type": "stream",
     "text": [
      "The Total users have max length of text message is  1\n",
      "Total used time: 1.2272448539733887\n"
     ]
    }
   ],
   "source": [
    "import sqlite3,time\n",
    "from sqlite3 import OperationalError\n",
    "\n",
    "conn=sqlite3.connect('zFinal.db')\n",
    "c=conn.cursor()\n",
    "\n",
    "\n",
    "#Shortest Text message\n",
    "start=time.time()\n",
    "data=c.execute(\"select id_str, text from tweet where length(text)>=(select max(length(text)) from tweet);\").fetchall()\n",
    "end=time.time()\n",
    "\n",
    "\n",
    "conn.commit()\n",
    "conn.close()\n",
    "\n",
    "\n",
    "print(\"The Total users have max length of text message is \", str(len(data)))\n",
    "print(\"Total used time:\", str(end-start))"
   ]
  },
  {
   "cell_type": "code",
   "execution_count": 51,
   "metadata": {},
   "outputs": [
    {
     "data": {
      "text/plain": [
       "[('471815197565657088',\n",
       "  'RT @Yoledingo: &lt;&lt;&lt;&lt;&lt;&lt;&lt;&lt;&lt;&lt;&lt;&lt;&lt;&lt;&lt;&lt;&lt;&lt;&lt;&lt;&lt;&lt;&lt;&lt;&lt;&lt;&lt;&lt;&lt;&lt;&lt;&lt;&lt;&lt;&lt;&lt;&lt;&lt;&lt;&lt;&lt;&lt;&lt;&lt;&lt;&lt;&lt;&lt;&lt;&lt;&lt;&lt;&lt;&lt;&lt;&lt;&lt;&lt;&lt;&lt;&lt;&lt;&lt;&lt;&lt;&lt;&lt;&lt;&lt;&lt;&lt;&lt;&lt;&lt;&lt;&lt;&lt;&lt;&lt;&lt;&lt;&lt;&lt;&lt;&lt;&lt;&lt;&lt;&lt;&lt;&lt;&lt;&lt;&lt;&lt;&lt;&lt;&lt; http://t.co/7IqaxAzmFV vi…')]"
      ]
     },
     "execution_count": 51,
     "metadata": {},
     "output_type": "execute_result"
    }
   ],
   "source": [
    "#Double check the longest message\n",
    "data"
   ]
  },
  {
   "cell_type": "markdown",
   "metadata": {
    "collapsed": true
   },
   "source": [
    "##Tweet with Average Length text message"
   ]
  },
  {
   "cell_type": "code",
   "execution_count": 53,
   "metadata": {
    "scrolled": true
   },
   "outputs": [
    {
     "name": "stdout",
     "output_type": "stream",
     "text": [
      "The Total users match the average length of text message is  8404\n",
      "Total used time: 1.2668309211730957\n"
     ]
    }
   ],
   "source": [
    "import sqlite3,time\n",
    "from sqlite3 import OperationalError\n",
    "\n",
    "conn=sqlite3.connect('zFinal.db')\n",
    "c=conn.cursor()\n",
    "\n",
    "#Average Text message\n",
    "start=time.time()\n",
    "data=c.execute(\"select id_str,text from tweet where length(text)==(select sum(length(text))/count(*) from tweet);\").fetchall()\n",
    "end=time.time()\n",
    "\n",
    "conn.commit()\n",
    "conn.close()\n",
    "\n",
    "print(\"The Total users match the average length of text message is \", str(len(data)))\n",
    "print(\"Total used time:\", str(end-start))"
   ]
  },
  {
   "cell_type": "code",
   "execution_count": 54,
   "metadata": {},
   "outputs": [
    {
     "data": {
      "text/plain": [
       "[('471867425060052992',\n",
       "  '🎶Volvere a pintar d azul el universo, hare d todo esto sea un sueño🎶'),\n",
       " ('471867433435664384',\n",
       "  \"RT @hectoriousss: Cheryl is the Michael Jordan of Women's Basketball\"),\n",
       " ('471867437642571777',\n",
       "  '“@KrisHumphries: Lol. http://t.co/PfP4YNPjKm” http://t.co/B0wcUqgKUd'),\n",
       " ('471867446014377984',\n",
       "  'RT @zacksback_: @Humberview_MAC THE KING HAS TAKEN HIS THRONE #OBAMA'),\n",
       " ('471867458593497088',\n",
       "  'RT @KathiaLisette: Hablas de hipocresía,neta? Mejor cállate enserio.'),\n",
       " ('471867466990116865',\n",
       "  '中華丼と五目やきそばが一緒に  やきそば、ライス at 中国料理 豪華殿 #毎日がラーメン http://t.co/LOGUQokHBq'),\n",
       " ('471867475391299584',\n",
       "  'I will make sure to keep my distance........ La la..... La la la la$'),\n",
       " ('471867475361939456',\n",
       "  'RT @instagranzin: faroeste caboclo dura mais que muito namoro por ai'),\n",
       " ('471867479590174720',\n",
       "  '#Скачать Частная патология Внутренние болезни http://t.co/38YqJ6F6wi'),\n",
       " ('471867479564644352',\n",
       "  'I took out my belly ring for 2 days n now it fucking closed up 😤😖😖😡😡')]"
      ]
     },
     "execution_count": 54,
     "metadata": {},
     "output_type": "execute_result"
    }
   ],
   "source": [
    "#Double check the text with Average length\n",
    "data[7365:7375]"
   ]
  },
  {
   "cell_type": "markdown",
   "metadata": {},
   "source": [
    "#Question 2a-iv: \n",
    "##Average latitude and longitude for every user"
   ]
  },
  {
   "cell_type": "code",
   "execution_count": 55,
   "metadata": {},
   "outputs": [
    {
     "name": "stdout",
     "output_type": "stream",
     "text": [
      "Total used time: 13.115707159042358\n"
     ]
    }
   ],
   "source": [
    "import sqlite3,time\n",
    "from sqlite3 import OperationalError\n",
    "\n",
    "conn=sqlite3.connect('zFinal.db')\n",
    "c=conn.cursor()\n",
    "\n",
    "#Query all the user with average latitude and longitude\n",
    "start=time.time()\n",
    "data=c.execute(\"select name, avg(latitude), avg(longitude) from user, geo where user_id=id group by id;\").fetchall()\n",
    "end=time.time()\n",
    "\n",
    "conn.commit()\n",
    "conn.close()\n",
    "\n",
    "#print(len(data))\n",
    "print(\"Total used time:\", str(end-start))"
   ]
  },
  {
   "cell_type": "code",
   "execution_count": 56,
   "metadata": {},
   "outputs": [
    {
     "data": {
      "text/plain": [
       "[(\"♥ɪ'ɫʑPamelaBreeZzy♥\", None, None),\n",
       " ('Sabrina Farji', None, None),\n",
       " ('Ibnu Sina', None, None),\n",
       " ('むらかみ', None, None),\n",
       " ('pettyjanice.', None, None),\n",
       " ('Zane', None, None),\n",
       " ('Noble', None, None),\n",
       " ('Ina.', None, None),\n",
       " ('HillCrusty Says', None, None),\n",
       " ('キャプテン・マーベル／シャザムbot', None, None)]"
      ]
     },
     "execution_count": 56,
     "metadata": {},
     "output_type": "execute_result"
    }
   ],
   "source": [
    "data[100019:100029]"
   ]
  },
  {
   "cell_type": "code",
   "execution_count": 57,
   "metadata": {},
   "outputs": [
    {
     "name": "stdout",
     "output_type": "stream",
     "text": [
      "Total used time: 9.496263980865479\n"
     ]
    }
   ],
   "source": [
    "import sqlite3,time\n",
    "from sqlite3 import OperationalError\n",
    "\n",
    "conn=sqlite3.connect('zFinal.db')\n",
    "c=conn.cursor()\n",
    "\n",
    "start=time.time()\n",
    "#Display the users with Average latitude and longitude is NOT None\n",
    "data=c.execute(\"select name, avg(latitude), avg(longitude) from user, geo where user_id=id group by id having (avg(latitude)>0 and avg(longitude)>0);\").fetchall()\n",
    "\n",
    "end=time.time()\n",
    "\n",
    "conn.commit()\n",
    "conn.close()\n",
    "\n",
    "#print(\"The number of users with average latitude and longitude NOT None is \", str(len(data)))\n",
    "print(\"Total used time:\", str(end-start))"
   ]
  },
  {
   "cell_type": "code",
   "execution_count": 58,
   "metadata": {},
   "outputs": [
    {
     "data": {
      "text/plain": [
       "[('T.Aksorpakdee☀', 7.462926, 100.07471),\n",
       " ('Ceyda ', 38.439818, 38.104709),\n",
       " ('Napat', 13.859914, 100.591164),\n",
       " ('玉子の姫様', 34.748275, 135.542924),\n",
       " ('Павел Гонтарь', 55.785117, 37.600479),\n",
       " ('Aiman™', 5.31301, 103.155158),\n",
       " ('JannAlvin Carl Cuabo', 6.127451, 125.172838),\n",
       " ('[여친님이랑 여행중]', 35.689981, 139.847278),\n",
       " ('Ada Shuhada', 1.503104, 103.615142),\n",
       " (\"BèzzTa rhEum'z \", 49.53046, 0.11454)]"
      ]
     },
     "execution_count": 58,
     "metadata": {},
     "output_type": "execute_result"
    }
   ],
   "source": [
    "#Double check the user with average latitude and longitude \n",
    "data[530:540]"
   ]
  },
  {
   "cell_type": "markdown",
   "metadata": {},
   "source": [
    "#Question 2a-V:\n",
    "##Rerun 2a-iv 10 times"
   ]
  },
  {
   "cell_type": "code",
   "execution_count": 59,
   "metadata": {},
   "outputs": [
    {
     "name": "stdout",
     "output_type": "stream",
     "text": [
      "Total used time for 10x run: 113.91858100891113\n"
     ]
    }
   ],
   "source": [
    "import sqlite3,time\n",
    "from sqlite3 import OperationalError\n",
    "\n",
    "\n",
    "start=time.time()\n",
    "\n",
    "#Re-run 10 times as same as part 2a-iv for all the users\n",
    "for i in range(10):\n",
    "    conn=sqlite3.connect('zFinal.db')\n",
    "    c=conn.cursor()\n",
    "    data=c.execute(\"select name, avg(latitude), avg(longitude) from Geo, User where user_id=id group by id ;\").fetchall()\n",
    "    conn.commit()\n",
    "    conn.close()\n",
    "\n",
    "end=time.time()\n",
    "\n",
    "    \n",
    "print(\"Total used time for 10x run:\", str(end-start))"
   ]
  },
  {
   "cell_type": "markdown",
   "metadata": {},
   "source": [
    "#Question 2a-V:\n",
    "##Rerun 2a-iv 100 times"
   ]
  },
  {
   "cell_type": "code",
   "execution_count": 60,
   "metadata": {},
   "outputs": [
    {
     "name": "stdout",
     "output_type": "stream",
     "text": [
      "Total used time for 100x run: 1148.143183708191\n"
     ]
    }
   ],
   "source": [
    "import sqlite3,time\n",
    "from sqlite3 import OperationalError\n",
    "\n",
    "\n",
    "start=time.time()\n",
    "\n",
    "#Re-run 10 times as same as part 2a-iv for all the users\n",
    "for i in range(100):\n",
    "    conn=sqlite3.connect('zFinal.db')\n",
    "    c=conn.cursor()\n",
    "    data=c.execute(\"select name, avg(latitude), avg(longitude) from Geo, User where user_id=id group by id;\").fetchall()\n",
    "    conn.commit()\n",
    "    conn.close()\n",
    "\n",
    "end=time.time()\n",
    "\n",
    " \n",
    "print(\"Total used time for 100x run:\", str(end-start))"
   ]
  },
  {
   "cell_type": "markdown",
   "metadata": {},
   "source": [
    "#Question 2a-v Ans: \n",
    "##The time consuming is very close to linear comparing 10x (113.92sec) and 100x(1148.14sec)"
   ]
  },
  {
   "cell_type": "markdown",
   "metadata": {},
   "source": [
    "#Question 2b: \n",
    "##Report the runtime use local file ztweet.txt to perform computation for 2a-i\n",
    "##The runtime of 2b (80.56sec) is about 80x more than 2a-i (1 sec)."
   ]
  },
  {
   "cell_type": "code",
   "execution_count": 61,
   "metadata": {
    "collapsed": true
   },
   "outputs": [],
   "source": [
    "#Repeat 2-i with python code\n",
    "\n",
    "lst_created_at=[]\n",
    "lst_id_str=[]\n",
    "lst_text=[]\n",
    "lst_source=[]\n",
    "lst_in_reply_to_user_id=[]\n",
    "lst_in_reply_to_screen_name=[]\n",
    "lst_in_reply_to_status_id=[]\n",
    "lst_retweet_count=[]\n",
    "lst_contributors=[]\n",
    "lst_user_id=[]\n",
    "\n",
    "lst_user_name=[]\n",
    "lst_user_screen_name=[]\n",
    "lst_user_description=[]\n",
    "lst_user_friends_count=[]\n",
    "\n",
    "lst_geo=[]"
   ]
  },
  {
   "cell_type": "code",
   "execution_count": 62,
   "metadata": {},
   "outputs": [
    {
     "name": "stdout",
     "output_type": "stream",
     "text": [
      "The total number of id_str match 44 or 77 is  222673\n",
      "Total run time is: 80.55607509613037\n"
     ]
    }
   ],
   "source": [
    "#Repeat 2a-i with python code\n",
    "\n",
    "import urllib, time, json, sqlite3\n",
    "import pprint\n",
    "import pandas as pd\n",
    "\n",
    "start=time.time()\n",
    "source=open(\"ztweet.txt\",'r')\n",
    "count=0\n",
    "\n",
    "while count<1000000:\n",
    "    try:\n",
    "        tweet=source.readline()\n",
    "        if not tweet.isspace():    \n",
    "            obj=json.loads(tweet)\n",
    "            #pprint.pprint(obj)\n",
    "            lst_created_at.append(obj['created_at'])\n",
    "            lst_id_str.append(obj['id_str'])\n",
    "            lst_text.append(obj['text'])\n",
    "            lst_source.append(obj['source'])\n",
    "            lst_in_reply_to_user_id.append(obj['in_reply_to_user_id'])\n",
    "            lst_in_reply_to_screen_name.append(obj['in_reply_to_screen_name']),\n",
    "            lst_in_reply_to_status_id.append(obj['in_reply_to_status_id']),\n",
    "            lst_retweet_count.append(obj['retweet_count'],)\n",
    "            lst_contributors.append(obj['contributors']),\n",
    "            lst_user_id.append(obj['user']['id'])\n",
    "\n",
    "            count+=1\n",
    "\n",
    "    except ValueError:#Error for damaged tweet\n",
    "        pass\n",
    "\n",
    "#Form DataFrame from the Table Tweet:\n",
    "df_tweet=pd.DataFrame({\n",
    "\"created_at\":lst_created_at,\n",
    "\"id_str\":lst_id_str,\n",
    "\"source\":lst_source,\n",
    "\"in_reply_to_user_id\":lst_in_reply_to_user_id,\n",
    "\"in_reply_to_screen_name\":lst_in_reply_to_screen_name,\n",
    "\"in_reply_to_status_id\":lst_in_reply_to_status_id,\n",
    "\"retweet_count\":lst_retweet_count,\n",
    "\"contributors\":lst_contributors,\n",
    "\"user_id\":lst_user_id})\n",
    "\n",
    "#Replace all the nan,[] cell with None\n",
    "df_tweet = df_tweet.where((pd.notnull(df_tweet)), None)\n",
    "\n",
    "print('The total number of id_str match 44 or 77 is ',\n",
    "      len(df_tweet[df_tweet['id_str'].str.contains('44|77')==True]['id_str'].unique()))\n",
    "\n",
    "end=time.time()\n",
    "print(\"Total run time is:\", str(end-start))"
   ]
  },
  {
   "cell_type": "markdown",
   "metadata": {},
   "source": [
    "#Question 2b: \n",
    "##Report the runtime use local file ztweet.txt to perform computation for 2a-ii\n",
    "##The runtime of 2b (83.14sec) is about 20x more than 2a-i (4.24sec)"
   ]
  },
  {
   "cell_type": "code",
   "execution_count": 63,
   "metadata": {
    "collapsed": true
   },
   "outputs": [],
   "source": [
    "#Repeat 2-ii with python code\n",
    "lst_created_at=[]\n",
    "lst_id_str=[]\n",
    "lst_text=[]\n",
    "lst_source=[]\n",
    "lst_in_reply_to_user_id=[]\n",
    "lst_in_reply_to_screen_name=[]\n",
    "lst_in_reply_to_status_id=[]\n",
    "lst_retweet_count=[]\n",
    "lst_contributors=[]\n",
    "lst_user_id=[]\n",
    "\n",
    "lst_user_name=[]\n",
    "lst_user_screen_name=[]\n",
    "lst_user_description=[]\n",
    "lst_user_friends_count=[]\n",
    "\n",
    "lst_geo=[]"
   ]
  },
  {
   "cell_type": "code",
   "execution_count": 64,
   "metadata": {},
   "outputs": [
    {
     "name": "stdout",
     "output_type": "stream",
     "text": [
      "The total number of unique values is  180406\n",
      "Total run time is: 83.14054417610168\n"
     ]
    }
   ],
   "source": [
    "#Repeat 2-ii with python code\n",
    "\n",
    "import urllib, time, json, sqlite3\n",
    "import pprint\n",
    "import pandas as pd\n",
    "\n",
    "start=time.time()\n",
    "source=open(\"ztweet.txt\",'r')\n",
    "count=0\n",
    "\n",
    "while count<1000000:\n",
    "    try:\n",
    "        tweet=source.readline()\n",
    "        if not tweet.isspace():    \n",
    "            obj=json.loads(tweet)\n",
    "            lst_created_at.append(obj['created_at'])\n",
    "            lst_id_str.append(obj['id_str'])\n",
    "            lst_text.append(obj['text'])\n",
    "            lst_source.append(obj['source'])\n",
    "            lst_in_reply_to_user_id.append(obj['in_reply_to_user_id'])\n",
    "            lst_in_reply_to_screen_name.append(obj['in_reply_to_screen_name']),\n",
    "            lst_in_reply_to_status_id.append(obj['in_reply_to_status_id']),\n",
    "            lst_retweet_count.append(obj['retweet_count'],)\n",
    "            lst_contributors.append(obj['contributors']),\n",
    "            lst_user_id.append(obj['user']['id'])\n",
    "\n",
    "            count+=1\n",
    "\n",
    "    except ValueError:#Error for damaged tweet\n",
    "        pass\n",
    "\n",
    "df_tweet=pd.DataFrame({\n",
    "    \"created_at\":lst_created_at,\n",
    "    \"id_str\":lst_id_str,\n",
    "    \"source\":lst_source,\n",
    "    \"in_reply_to_user_id\":lst_in_reply_to_user_id,\n",
    "    \"in_reply_to_screen_name\":lst_in_reply_to_screen_name,\n",
    "    \"in_reply_to_status_id\":lst_in_reply_to_status_id,\n",
    "    \"retweet_count\":lst_retweet_count,\n",
    "    \"contributors\":lst_contributors,\n",
    "    \"user_id\":lst_user_id})\n",
    "\n",
    "len(df_tweet['in_reply_to_user_id'].unique())\n",
    "\n",
    "end=time.time()\n",
    "print('The total number of unique values is ', len(df_tweet['in_reply_to_user_id'].unique()))\n",
    "print(\"Total run time is:\", str(end-start))\n"
   ]
  },
  {
   "cell_type": "markdown",
   "metadata": {},
   "source": [
    "#Question 2b: Summary\n",
    "\n",
    "##Ans: The computation on part 2b (80.56sec) is about 10 times longer than 2a-i (1sec) \n",
    "##Ans: The computation on part 2b (83.14sec) is about 4 times longer than 2a-ii (4.24sec) "
   ]
  },
  {
   "cell_type": "markdown",
   "metadata": {},
   "source": [
    "#Question 3a:\n",
    "\n",
    "##Create the unique ID in string format by converting the user_id in the letter string format. And then add this print this new column together with the original 5 columns on the txt file (i.e. Q3b.txt)"
   ]
  },
  {
   "cell_type": "code",
   "execution_count": 65,
   "metadata": {
    "collapsed": true
   },
   "outputs": [],
   "source": [
    "import pandas as pd\n",
    "\n",
    "#Function for generate INSERT statement and print on the txt file\n",
    "def generateInsertStatement(TableName):\n",
    "\n",
    "    aa=''\n",
    "    s=','\n",
    "    lst=[]\n",
    "    new_id=''\n",
    "    count=0\n",
    "\n",
    "    #TableName=\"User\"\n",
    "    query=\"select * from \" + TableName\n",
    "    df = pd.read_sql_query(query, conn) #Query to form a DataFrame \n",
    "    df = df.where((pd.notnull(df)),None) #Replace all the null by None\n",
    "    with open('Q3a.txt', 'a') as f: #Open the txt file\n",
    "    \n",
    "        #Loop for Generate new_id\n",
    "        for df_row in range(df.shape[0]):\n",
    "            num=df.ix[df_row][0]\n",
    "            for j in num:\n",
    "                new_id+=chr(ord('a')+int(j)) #Generate new_id\n",
    "            lst.append(new_id)\n",
    "            for df_col in range(df.shape[1]):\n",
    "                lst.append(df.ix[df_row][df_col]) #store each of the attribute record in one list\n",
    "            lst=tuple(lst)\n",
    "\n",
    "            print(\"Insert INTO  User  Values \",lst, file=f) #Write to the txt file\n",
    "          # print(\"Insert INTO  User  Values \",lst)\n",
    "            count+=1\n",
    "            lst=[]\n",
    "            new_id=''\n",
    "\n",
    "    f.close()"
   ]
  },
  {
   "cell_type": "code",
   "execution_count": 66,
   "metadata": {},
   "outputs": [
    {
     "name": "stdout",
     "output_type": "stream",
     "text": [
      "Total run time is: 892.2526290416718\n"
     ]
    }
   ],
   "source": [
    "import sqlite3\n",
    "from sqlite3 import OperationalError\n",
    "\n",
    "conn=sqlite3.connect('zFinal.db')\n",
    "c=conn.cursor()\n",
    "\n",
    "#Call the function to pull up the User table and print the information onto the txt file\n",
    "start=time.time()\n",
    "generateInsertStatement(\"User\")\n",
    "end=time.time()\n",
    "\n",
    "conn.commit()\n",
    "conn.close()\n",
    "\n",
    "print(\"Total run time is:\", str(end-start))"
   ]
  },
  {
   "cell_type": "code",
   "execution_count": 67,
   "metadata": {},
   "outputs": [
    {
     "data": {
      "text/plain": [
       "[\"Insert INTO  User  Values  ('cbdgegaeh', '213646047', 'Wisdom Ink', 'Wisdom_Ink', 'Wisdom Ink Online Magazine:  Expressing our #joy & #love via our articles. Celebrating diversity & the growth of #consciousness. #zen #meditation #spiritual', 4821)\\n\",\n",
       " \"Insert INTO  User  Values  ('dijfaehj', '38950479', 'Yarer Sofier', 'firekites', 'Visite nuestro stand en la planta cuarta. Gran liquidación en revólveres, cuchillos y todos los complementos de la mujer inquieta.', 99)\\n\",\n",
       " \"Insert INTO  User  Values  ('ceedfcgjda', '2443526930', 'Vera Luciani', 'rosaxonahag', 'Proud coffee advocate ; studies in  # all about-Devoted alcohol lover .', 261)\\n\",\n",
       " \"Insert INTO  User  Values  ('cieibdbii', '284813188', 'J e s s', '_SameOleSHIT', None, 683)\\n\",\n",
       " \"Insert INTO  User  Values  ('begchahjf', '146270795', 'rocio murillo lopez', 'gomitatica', None, 4)\\n\",\n",
       " 'Insert INTO  User  Values  (\\'bbegjafegg\\', \\'1146905466\\', \"Fuiste\\'peroperdiste.\", \\'NatyEmeri\\', \\'Mi Idilo es aquel que años atras con solo una guitarra , consiguio su sueño en las escaleras del teatro avon.\\\\r\\\\nBELIEBER  ∞\\', 238)\\n',\n",
       " \"Insert INTO  User  Values  ('badbcjeigd', '1031294863', 'Mayara', 'foryoumartinez', None, 184)\\n\",\n",
       " \"Insert INTO  User  Values  ('dcjeijaaf', '329489005', 'Harrison_BHS', 'Harrison_BHS', 'English teacher and sponsor of the Purbalite and Literary Guild. On a mission to stomp out bad music everywhere.', 105)\\n\",\n",
       " 'Insert INTO  User  Values  (\\'fgbfefgag\\', \\'561545606\\', \\'baddgirl⭐️\\', \\'Damn_CeBadd\\', \"#TeamGet\\'EmBuck❤️ IG @_MixedShorty\", 879)\\n',\n",
       " \"Insert INTO  User  Values  ('cgdcbacie', '263210284', '✝ Stay and Believe ✝', 'yami_belieberJB', 'No siempre tenemos lo que queremos,aveces debemos conformarnos con lo que podemos.', 320)\\n\"]"
      ]
     },
     "execution_count": 67,
     "metadata": {},
     "output_type": "execute_result"
    }
   ],
   "source": [
    "#Recheck the text file contents\n",
    "content=open(\"Q3a.txt\",\"r\").readlines()\n",
    "content[0:10]"
   ]
  },
  {
   "cell_type": "markdown",
   "metadata": {},
   "source": [
    "Question 3b:\n"
   ]
  },
  {
   "cell_type": "code",
   "execution_count": 68,
   "metadata": {
    "collapsed": true
   },
   "outputs": [],
   "source": [
    "lst_user_id=[]\n",
    "lst_user_name=[]\n",
    "lst_user_screen_name=[]\n",
    "lst_user_description=[]\n",
    "lst_user_friends_count=[]\n"
   ]
  },
  {
   "cell_type": "code",
   "execution_count": 69,
   "metadata": {},
   "outputs": [
    {
     "name": "stdout",
     "output_type": "stream",
     "text": [
      "Total run time is: 1182.0010969638824\n"
     ]
    }
   ],
   "source": [
    "import urllib, time, json, sqlite3\n",
    "import pprint\n",
    "import pandas as pd\n",
    "\n",
    "start=time.time()\n",
    "source=open(\"ztweet.txt\",'r')\n",
    "count=0\n",
    "new_id=''\n",
    "lst_new_id=[]\n",
    "lst=[]\n",
    "\n",
    "while count<1000000:\n",
    "    try:\n",
    "        tweet=source.readline()\n",
    "        if not tweet.isspace():\n",
    "            obj=json.loads(tweet)\n",
    "            lst_user_id.append(obj['user']['id'])\n",
    "            lst_user_name.append(obj['user']['name'])\n",
    "            lst_user_screen_name.append(obj['user']['screen_name'])\n",
    "            lst_user_description.append(obj['user']['description'])\n",
    "            lst_user_friends_count.append(obj['user']['friends_count'])\n",
    "            count+=1\n",
    "    except ValueError:#Error for damaged tweet\n",
    "        pass\n",
    "\n",
    "#Generate the new unique id\n",
    "for df_row in range(len(lst_user_id)):\n",
    "        num=lst_user_id[df_row]\n",
    "        for j in str(num):\n",
    "            new_id+=chr(ord('a')+int(j))\n",
    "        lst_new_id.append(new_id)      \n",
    "        new_id=''\n",
    "        \n",
    "#Forming Data Frame from the User Record with the new unique id redord\n",
    "df_user=pd.DataFrame({\n",
    "    \"new_id\":lst_new_id,\n",
    "    \"user_id\":lst_user_id,\n",
    "    \"user_name\":lst_user_name,\n",
    "    \"user_screen_name\":lst_user_screen_name,\n",
    "    \"user_description\":lst_user_description,\n",
    "    \"user_friends_count\":lst_user_friends_count})\n",
    "\n",
    "\n",
    "with open('Q3b.txt', 'a') as f:\n",
    "    for df_row in range(df_user.shape[0]):        \n",
    "        for df_col in range(df_user.shape[1]):\n",
    "            lst.append(str(df_user.ix[df_row][df_col]))\n",
    "        lst=tuple(lst)\n",
    "        print(\"Insert INTO  User  Values \",lst, file=f)\n",
    "        #print(\"Insert INTO  User  Values \",lst)\n",
    "        lst=[]\n",
    "\n",
    "end=time.time()\n",
    "print(\"Total run time is:\", str(end-start))"
   ]
  },
  {
   "cell_type": "code",
   "execution_count": 71,
   "metadata": {},
   "outputs": [
    {
     "data": {
      "text/html": [
       "<div>\n",
       "<table border=\"1\" class=\"dataframe\">\n",
       "  <thead>\n",
       "    <tr style=\"text-align: right;\">\n",
       "      <th></th>\n",
       "      <th>new_id</th>\n",
       "      <th>user_description</th>\n",
       "      <th>user_friends_count</th>\n",
       "      <th>user_id</th>\n",
       "      <th>user_name</th>\n",
       "      <th>user_screen_name</th>\n",
       "    </tr>\n",
       "  </thead>\n",
       "  <tbody>\n",
       "    <tr>\n",
       "      <th>0</th>\n",
       "      <td>cbdgegaeh</td>\n",
       "      <td>Wisdom Ink Online Magazine:  Expressing our #j...</td>\n",
       "      <td>4821</td>\n",
       "      <td>213646047</td>\n",
       "      <td>Wisdom Ink</td>\n",
       "      <td>Wisdom_Ink</td>\n",
       "    </tr>\n",
       "    <tr>\n",
       "      <th>1</th>\n",
       "      <td>dijfaehj</td>\n",
       "      <td>Visite nuestro stand en la planta cuarta. Gran...</td>\n",
       "      <td>99</td>\n",
       "      <td>38950479</td>\n",
       "      <td>Yarer Sofier</td>\n",
       "      <td>firekites</td>\n",
       "    </tr>\n",
       "    <tr>\n",
       "      <th>2</th>\n",
       "      <td>ceedfcgjda</td>\n",
       "      <td>Proud coffee advocate ; studies in  # all abou...</td>\n",
       "      <td>261</td>\n",
       "      <td>2443526930</td>\n",
       "      <td>Vera Luciani</td>\n",
       "      <td>rosaxonahag</td>\n",
       "    </tr>\n",
       "    <tr>\n",
       "      <th>3</th>\n",
       "      <td>cieibdbii</td>\n",
       "      <td>None</td>\n",
       "      <td>683</td>\n",
       "      <td>284813188</td>\n",
       "      <td>J e s s</td>\n",
       "      <td>_SameOleSHIT</td>\n",
       "    </tr>\n",
       "    <tr>\n",
       "      <th>4</th>\n",
       "      <td>begchahjf</td>\n",
       "      <td>None</td>\n",
       "      <td>4</td>\n",
       "      <td>146270795</td>\n",
       "      <td>rocio murillo lopez</td>\n",
       "      <td>gomitatica</td>\n",
       "    </tr>\n",
       "  </tbody>\n",
       "</table>\n",
       "</div>"
      ],
      "text/plain": [
       "       new_id                                   user_description  \\\n",
       "0   cbdgegaeh  Wisdom Ink Online Magazine:  Expressing our #j...   \n",
       "1    dijfaehj  Visite nuestro stand en la planta cuarta. Gran...   \n",
       "2  ceedfcgjda  Proud coffee advocate ; studies in  # all abou...   \n",
       "3   cieibdbii                                               None   \n",
       "4   begchahjf                                               None   \n",
       "\n",
       "   user_friends_count     user_id            user_name user_screen_name  \n",
       "0                4821   213646047           Wisdom Ink       Wisdom_Ink  \n",
       "1                  99    38950479         Yarer Sofier        firekites  \n",
       "2                 261  2443526930         Vera Luciani      rosaxonahag  \n",
       "3                 683   284813188              J e s s     _SameOleSHIT  \n",
       "4                   4   146270795  rocio murillo lopez       gomitatica  "
      ]
     },
     "execution_count": 71,
     "metadata": {},
     "output_type": "execute_result"
    }
   ],
   "source": [
    "df_user.head()"
   ]
  },
  {
   "cell_type": "code",
   "execution_count": 72,
   "metadata": {
    "scrolled": true
   },
   "outputs": [
    {
     "data": {
      "text/plain": [
       "[\"Insert INTO  User  Values  ('cbdgegaeh', 'Wisdom Ink Online Magazine:  Expressing our #joy & #love via our articles. Celebrating diversity & the growth of #consciousness. #zen #meditation #spiritual', '4821', '213646047', 'Wisdom Ink', 'Wisdom_Ink')\\n\",\n",
       " \"Insert INTO  User  Values  ('dijfaehj', 'Visite nuestro stand en la planta cuarta. Gran liquidación en revólveres, cuchillos y todos los complementos de la mujer inquieta.', '99', '38950479', 'Yarer Sofier', 'firekites')\\n\",\n",
       " \"Insert INTO  User  Values  ('ceedfcgjda', 'Proud coffee advocate ; studies in  # all about-Devoted alcohol lover .', '261', '2443526930', 'Vera Luciani', 'rosaxonahag')\\n\",\n",
       " \"Insert INTO  User  Values  ('cieibdbii', 'None', '683', '284813188', 'J e s s', '_SameOleSHIT')\\n\",\n",
       " \"Insert INTO  User  Values  ('begchahjf', 'None', '4', '146270795', 'rocio murillo lopez', 'gomitatica')\\n\",\n",
       " 'Insert INTO  User  Values  (\\'bbegjafegg\\', \\'Mi Idilo es aquel que años atras con solo una guitarra , consiguio su sueño en las escaleras del teatro avon.\\\\r\\\\nBELIEBER  ∞\\', \\'238\\', \\'1146905466\\', \"Fuiste\\'peroperdiste.\", \\'NatyEmeri\\')\\n',\n",
       " \"Insert INTO  User  Values  ('badbcjeigd', 'None', '184', '1031294863', 'Mayara', 'foryoumartinez')\\n\",\n",
       " \"Insert INTO  User  Values  ('dcjeijaaf', 'English teacher and sponsor of the Purbalite and Literary Guild. On a mission to stomp out bad music everywhere.', '105', '329489005', 'Harrison_BHS', 'Harrison_BHS')\\n\",\n",
       " 'Insert INTO  User  Values  (\\'fgbfefgag\\', \"#TeamGet\\'EmBuck❤️ IG @_MixedShorty\", \\'879\\', \\'561545606\\', \\'baddgirl⭐️\\', \\'Damn_CeBadd\\')\\n',\n",
       " \"Insert INTO  User  Values  ('cgdcbacie', 'No siempre tenemos lo que queremos,aveces debemos conformarnos con lo que podemos.', '320', '263210284', '✝ Stay and Believe ✝', 'yami_belieberJB')\\n\"]"
      ]
     },
     "execution_count": 72,
     "metadata": {},
     "output_type": "execute_result"
    }
   ],
   "source": [
    "#Double check the lines on the txt file\n",
    "content=open(\"Q3b.txt\",\"r\").readlines()\n",
    "content[0:10]\n"
   ]
  },
  {
   "cell_type": "markdown",
   "metadata": {
    "collapsed": true
   },
   "source": [
    "#Question 3 Ans: \n",
    "#The method on 3a(reading from SQLITE = 892.25sec) is faster than 3b(reading from local file = 1182sec)"
   ]
  },
  {
   "cell_type": "markdown",
   "metadata": {},
   "source": [
    "#Question 4-a: \n",
    "\n",
    "##Add the new column Euclidean Distance (Round to 4 decimal places) to Geo Table "
   ]
  },
  {
   "cell_type": "code",
   "execution_count": 74,
   "metadata": {},
   "outputs": [
    {
     "name": "stdout",
     "output_type": "stream",
     "text": [
      "Total run time is: 302.86693692207336\n"
     ]
    }
   ],
   "source": [
    "import sqlite3, time\n",
    "import pandas as pd\n",
    "import numpy as np\n",
    "\n",
    "conn=sqlite3.connect('zFinal.db')\n",
    "c=conn.cursor()\n",
    "\n",
    "start=time.time()\n",
    "#Query out all the attributes from Table Geo includring Eul_dist (NOT yet take square root)\n",
    "#Also, Round the latitude and longitude in 4 digits by using Round() function\n",
    "#The distance is calculated based on the given coordinates(41.878668, -87.625555)\n",
    "query='''select user_id,id_str,\n",
    "            ROUND(latitude,4) as latitude, \n",
    "            ROUND(longitude,4) as longitude,\n",
    "            ROUND(((latitude-(41.878668))*(latitude-(41.878668))\n",
    "            +(longitude-(-87.625555))*(longitude-(-87.625555))),4) AS Eul_dist, \n",
    "            type from Geo;''' \n",
    "\n",
    "#Query the SQLITE to output the entire User table with Tweet_count column to DataFrame\n",
    "df_geo = pd.read_sql_query(query, conn) #Query to form a DataFrame \n",
    "df_geo.round(1)\n",
    "df_geo = df_geo.where((pd.notnull(df_geo)), None) #Replace the null value by None\n",
    "\n",
    "#Note:*******Take square root of the Eul_dist from the Query result and Replace the Eul_dist value\n",
    "for i in range(df_geo.shape[0]):\n",
    "    if df_geo.ix[i]['Eul_dist']!=None:\n",
    "        df_geo.ix[i]['Eul_dist']=np.sqrt(df_geo.ix[i]['Eul_dist'])\n",
    "    else:\n",
    "        pass\n",
    "    \n",
    "#Open the Txt file and Save the record on the Txt file\n",
    "with open(\"Q4a.txt\",\"a\") as file:\n",
    "    for i in range(df_geo.shape[0]):\n",
    "        print(tuple(df_geo.ix[i]),file=file)\n",
    "\n",
    "#End Time\n",
    "end=time.time()\n",
    "file.close()\n",
    "\n",
    "conn.commit()\n",
    "conn.close()\n",
    "\n",
    "print(\"Total run time is:\", str(end-start))\n"
   ]
  },
  {
   "cell_type": "code",
   "execution_count": 75,
   "metadata": {},
   "outputs": [
    {
     "data": {
      "text/html": [
       "<div>\n",
       "<table border=\"1\" class=\"dataframe\">\n",
       "  <thead>\n",
       "    <tr style=\"text-align: right;\">\n",
       "      <th></th>\n",
       "      <th>user_id</th>\n",
       "      <th>id_str</th>\n",
       "      <th>latitude</th>\n",
       "      <th>longitude</th>\n",
       "      <th>Eul_dist</th>\n",
       "      <th>type</th>\n",
       "    </tr>\n",
       "  </thead>\n",
       "  <tbody>\n",
       "    <tr>\n",
       "      <th>37</th>\n",
       "      <td>160370249</td>\n",
       "      <td>471803285741916160</td>\n",
       "      <td>14.6703</td>\n",
       "      <td>121.044</td>\n",
       "      <td>210.436</td>\n",
       "      <td>Point</td>\n",
       "    </tr>\n",
       "    <tr>\n",
       "      <th>91</th>\n",
       "      <td>233079540</td>\n",
       "      <td>471803289961365504</td>\n",
       "      <td>-7.3519</td>\n",
       "      <td>110.213</td>\n",
       "      <td>203.872</td>\n",
       "      <td>Point</td>\n",
       "    </tr>\n",
       "    <tr>\n",
       "      <th>102</th>\n",
       "      <td>146612119</td>\n",
       "      <td>471803289961771009</td>\n",
       "      <td>47.8487</td>\n",
       "      <td>-122.222</td>\n",
       "      <td>35.1078</td>\n",
       "      <td>Point</td>\n",
       "    </tr>\n",
       "    <tr>\n",
       "      <th>135</th>\n",
       "      <td>348864517</td>\n",
       "      <td>471803294135119872</td>\n",
       "      <td>38.7677</td>\n",
       "      <td>-77.1596</td>\n",
       "      <td>10.9185</td>\n",
       "      <td>Point</td>\n",
       "    </tr>\n",
       "    <tr>\n",
       "      <th>160</th>\n",
       "      <td>128825864</td>\n",
       "      <td>471803294130511872</td>\n",
       "      <td>-6.1494</td>\n",
       "      <td>106.729</td>\n",
       "      <td>200.201</td>\n",
       "      <td>Point</td>\n",
       "    </tr>\n",
       "    <tr>\n",
       "      <th>170</th>\n",
       "      <td>254674397</td>\n",
       "      <td>471803298337792000</td>\n",
       "      <td>52.5363</td>\n",
       "      <td>-1.5051</td>\n",
       "      <td>86.7774</td>\n",
       "      <td>Point</td>\n",
       "    </tr>\n",
       "    <tr>\n",
       "      <th>333</th>\n",
       "      <td>2328860924</td>\n",
       "      <td>471803306717614080</td>\n",
       "      <td>26.1985</td>\n",
       "      <td>127.699</td>\n",
       "      <td>215.895</td>\n",
       "      <td>Point</td>\n",
       "    </tr>\n",
       "    <tr>\n",
       "      <th>379</th>\n",
       "      <td>500289098</td>\n",
       "      <td>471803310924496896</td>\n",
       "      <td>36.1093</td>\n",
       "      <td>-115.17</td>\n",
       "      <td>28.1425</td>\n",
       "      <td>Point</td>\n",
       "    </tr>\n",
       "    <tr>\n",
       "      <th>400</th>\n",
       "      <td>1560357476</td>\n",
       "      <td>471803315098238976</td>\n",
       "      <td>-23.954</td>\n",
       "      <td>-46.2885</td>\n",
       "      <td>77.7348</td>\n",
       "      <td>Point</td>\n",
       "    </tr>\n",
       "    <tr>\n",
       "      <th>414</th>\n",
       "      <td>1631720540</td>\n",
       "      <td>471803315123396609</td>\n",
       "      <td>-29.1882</td>\n",
       "      <td>-51.2161</td>\n",
       "      <td>79.8508</td>\n",
       "      <td>Point</td>\n",
       "    </tr>\n",
       "  </tbody>\n",
       "</table>\n",
       "</div>"
      ],
      "text/plain": [
       "        user_id              id_str latitude longitude Eul_dist   type\n",
       "37    160370249  471803285741916160  14.6703   121.044  210.436  Point\n",
       "91    233079540  471803289961365504  -7.3519   110.213  203.872  Point\n",
       "102   146612119  471803289961771009  47.8487  -122.222  35.1078  Point\n",
       "135   348864517  471803294135119872  38.7677  -77.1596  10.9185  Point\n",
       "160   128825864  471803294130511872  -6.1494   106.729  200.201  Point\n",
       "170   254674397  471803298337792000  52.5363   -1.5051  86.7774  Point\n",
       "333  2328860924  471803306717614080  26.1985   127.699  215.895  Point\n",
       "379   500289098  471803310924496896  36.1093   -115.17  28.1425  Point\n",
       "400  1560357476  471803315098238976  -23.954  -46.2885  77.7348  Point\n",
       "414  1631720540  471803315123396609 -29.1882  -51.2161  79.8508  Point"
      ]
     },
     "execution_count": 75,
     "metadata": {},
     "output_type": "execute_result"
    }
   ],
   "source": [
    "#Check the 10 Rows of Coordinates are NOT None\n",
    "df_geo[pd.notnull(df_geo['latitude'])][0:10]\n"
   ]
  },
  {
   "cell_type": "code",
   "execution_count": 76,
   "metadata": {},
   "outputs": [
    {
     "data": {
      "text/html": [
       "<div>\n",
       "<table border=\"1\" class=\"dataframe\">\n",
       "  <thead>\n",
       "    <tr style=\"text-align: right;\">\n",
       "      <th></th>\n",
       "      <th>user_id</th>\n",
       "      <th>id_str</th>\n",
       "      <th>latitude</th>\n",
       "      <th>longitude</th>\n",
       "      <th>Eul_dist</th>\n",
       "      <th>type</th>\n",
       "    </tr>\n",
       "  </thead>\n",
       "  <tbody>\n",
       "    <tr>\n",
       "      <th>47</th>\n",
       "      <td>475343179</td>\n",
       "      <td>471803289957580802</td>\n",
       "      <td>None</td>\n",
       "      <td>None</td>\n",
       "      <td>None</td>\n",
       "      <td>None</td>\n",
       "    </tr>\n",
       "    <tr>\n",
       "      <th>48</th>\n",
       "      <td>2469281496</td>\n",
       "      <td>471803289957568512</td>\n",
       "      <td>None</td>\n",
       "      <td>None</td>\n",
       "      <td>None</td>\n",
       "      <td>None</td>\n",
       "    </tr>\n",
       "    <tr>\n",
       "      <th>49</th>\n",
       "      <td>143234106</td>\n",
       "      <td>471803289961758720</td>\n",
       "      <td>None</td>\n",
       "      <td>None</td>\n",
       "      <td>None</td>\n",
       "      <td>None</td>\n",
       "    </tr>\n",
       "    <tr>\n",
       "      <th>50</th>\n",
       "      <td>1675396662</td>\n",
       "      <td>471803289932406784</td>\n",
       "      <td>None</td>\n",
       "      <td>None</td>\n",
       "      <td>None</td>\n",
       "      <td>None</td>\n",
       "    </tr>\n",
       "    <tr>\n",
       "      <th>51</th>\n",
       "      <td>1643652104</td>\n",
       "      <td>471803289953382401</td>\n",
       "      <td>None</td>\n",
       "      <td>None</td>\n",
       "      <td>None</td>\n",
       "      <td>None</td>\n",
       "    </tr>\n",
       "    <tr>\n",
       "      <th>52</th>\n",
       "      <td>341545918</td>\n",
       "      <td>471803289928224768</td>\n",
       "      <td>None</td>\n",
       "      <td>None</td>\n",
       "      <td>None</td>\n",
       "      <td>None</td>\n",
       "    </tr>\n",
       "    <tr>\n",
       "      <th>53</th>\n",
       "      <td>1958579076</td>\n",
       "      <td>471803289927819264</td>\n",
       "      <td>None</td>\n",
       "      <td>None</td>\n",
       "      <td>None</td>\n",
       "      <td>None</td>\n",
       "    </tr>\n",
       "    <tr>\n",
       "      <th>54</th>\n",
       "      <td>574833053</td>\n",
       "      <td>471803289928216576</td>\n",
       "      <td>None</td>\n",
       "      <td>None</td>\n",
       "      <td>None</td>\n",
       "      <td>None</td>\n",
       "    </tr>\n",
       "    <tr>\n",
       "      <th>55</th>\n",
       "      <td>723455490</td>\n",
       "      <td>471803289945006081</td>\n",
       "      <td>None</td>\n",
       "      <td>None</td>\n",
       "      <td>None</td>\n",
       "      <td>None</td>\n",
       "    </tr>\n",
       "    <tr>\n",
       "      <th>56</th>\n",
       "      <td>171570002</td>\n",
       "      <td>471803289936621569</td>\n",
       "      <td>None</td>\n",
       "      <td>None</td>\n",
       "      <td>None</td>\n",
       "      <td>None</td>\n",
       "    </tr>\n",
       "  </tbody>\n",
       "</table>\n",
       "</div>"
      ],
      "text/plain": [
       "       user_id              id_str latitude longitude Eul_dist  type\n",
       "47   475343179  471803289957580802     None      None     None  None\n",
       "48  2469281496  471803289957568512     None      None     None  None\n",
       "49   143234106  471803289961758720     None      None     None  None\n",
       "50  1675396662  471803289932406784     None      None     None  None\n",
       "51  1643652104  471803289953382401     None      None     None  None\n",
       "52   341545918  471803289928224768     None      None     None  None\n",
       "53  1958579076  471803289927819264     None      None     None  None\n",
       "54   574833053  471803289928216576     None      None     None  None\n",
       "55   723455490  471803289945006081     None      None     None  None\n",
       "56   171570002  471803289936621569     None      None     None  None"
      ]
     },
     "execution_count": 76,
     "metadata": {},
     "output_type": "execute_result"
    }
   ],
   "source": [
    "#Check 10 rows of the df_geo dataframe\n",
    "df_geo[47:57]"
   ]
  },
  {
   "cell_type": "code",
   "execution_count": 77,
   "metadata": {},
   "outputs": [
    {
     "data": {
      "text/plain": [
       "[\"('475343179', '471803289957580802', None, None, None, None)\\n\",\n",
       " \"('2469281496', '471803289957568512', None, None, None, None)\\n\",\n",
       " \"('143234106', '471803289961758720', None, None, None, None)\\n\",\n",
       " \"('1675396662', '471803289932406784', None, None, None, None)\\n\",\n",
       " \"('1643652104', '471803289953382401', None, None, None, None)\\n\",\n",
       " \"('341545918', '471803289928224768', None, None, None, None)\\n\",\n",
       " \"('1958579076', '471803289927819264', None, None, None, None)\\n\",\n",
       " \"('574833053', '471803289928216576', None, None, None, None)\\n\",\n",
       " \"('723455490', '471803289945006081', None, None, None, None)\\n\",\n",
       " \"('171570002', '471803289936621569', None, None, None, None)\\n\"]"
      ]
     },
     "execution_count": 77,
     "metadata": {},
     "output_type": "execute_result"
    }
   ],
   "source": [
    "#Check the \"Q4a.txt\" Records\n",
    "content=open(\"Q4a.txt\",\"r\").readlines()\n",
    "content[47:57]"
   ]
  },
  {
   "cell_type": "markdown",
   "metadata": {},
   "source": [
    "#Question 4-b:\n",
    "\n",
    "##Add 2 columns (name, screen_name) to Tweet Table\n",
    "##The percent of known locations is 2.43%"
   ]
  },
  {
   "cell_type": "code",
   "execution_count": 80,
   "metadata": {},
   "outputs": [
    {
     "name": "stdout",
     "output_type": "stream",
     "text": [
      "The known location (latitude, longitude) percentage is about  2.43 %\n"
     ]
    }
   ],
   "source": [
    "# Calculate the known locations percentage\n",
    "#df_geo[pd.notnull(df_geo['Eul_dist'])].shape[0]\n",
    "known_loc=df_geo[pd.notnull(df_geo['Eul_dist'])].shape[0]/df_geo.shape[0] *100\n",
    "print(\"The known location (latitude, longitude) percentage is about \", str(round(known_loc,2)),'%')"
   ]
  },
  {
   "cell_type": "code",
   "execution_count": 87,
   "metadata": {},
   "outputs": [
    {
     "name": "stdout",
     "output_type": "stream",
     "text": [
      "Total run time is: 207.02943682670593\n"
     ]
    }
   ],
   "source": [
    "##Add 2 columns (name, screen_name) to Tweet Table and save on txt file\n",
    "conn=sqlite3.connect('zFinal.db')\n",
    "c=conn.cursor()\n",
    "\n",
    "start=time.time()\n",
    "tweetKeys = ['created_at','id_str','text','source','in_reply_to_user_id',\n",
    "                     'in_reply_to_screen_name', 'in_reply_to_status_id', \n",
    "                     'retweet_count', 'contributors']\n",
    "query='select name,screen_name,'+tweetKeys[0]+', '+tweetKeys[1]+', '+tweetKeys[2]+', '+tweetKeys[3]+', '+tweetKeys[4]+', '+tweetKeys[5]+', '+tweetKeys[6]+', '+tweetKeys[7]+', '+tweetKeys[8]+''' from user, tweet where id=user_id'''\n",
    "df_tweet = pd.read_sql_query(query, conn) #Query to form a DataFrame \n",
    "\n",
    "\n",
    "with open('Q4b.txt','a') as file:\n",
    "    for i in range(df_tweet.shape[0]):\n",
    "        print(tuple(df_tweet.ix[i]),file=file)\n",
    "\n",
    "end=time.time()\n",
    "\n",
    "conn.commit()\n",
    "conn.close()\n",
    "file.close()\n",
    "\n",
    "print(\"Total run time is:\", str(end-start))"
   ]
  },
  {
   "cell_type": "code",
   "execution_count": 88,
   "metadata": {},
   "outputs": [
    {
     "data": {
      "text/html": [
       "<div>\n",
       "<table border=\"1\" class=\"dataframe\">\n",
       "  <thead>\n",
       "    <tr style=\"text-align: right;\">\n",
       "      <th></th>\n",
       "      <th>name</th>\n",
       "      <th>screen_name</th>\n",
       "      <th>created_at</th>\n",
       "      <th>id_str</th>\n",
       "      <th>text</th>\n",
       "      <th>source</th>\n",
       "      <th>in_reply_to_user_id</th>\n",
       "      <th>in_reply_to_screen_name</th>\n",
       "      <th>in_reply_to_status_id</th>\n",
       "      <th>retweet_count</th>\n",
       "      <th>contributors</th>\n",
       "    </tr>\n",
       "  </thead>\n",
       "  <tbody>\n",
       "    <tr>\n",
       "      <th>47</th>\n",
       "      <td>Lucre ♡</td>\n",
       "      <td>LucreAndrioli</td>\n",
       "      <td>Thu May 29 00:00:44 +0000 2014</td>\n",
       "      <td>471803289957580802</td>\n",
       "      <td>Cande linda, mi amorr te amo♥</td>\n",
       "      <td>&lt;a href=\"http://twitter.com/download/android\" ...</td>\n",
       "      <td>None</td>\n",
       "      <td>None</td>\n",
       "      <td>None</td>\n",
       "      <td>0</td>\n",
       "      <td>None</td>\n",
       "    </tr>\n",
       "    <tr>\n",
       "      <th>48</th>\n",
       "      <td>Matias Schaab</td>\n",
       "      <td>misterchorizo23</td>\n",
       "      <td>Thu May 29 00:00:44 +0000 2014</td>\n",
       "      <td>471803289957568512</td>\n",
       "      <td>Quiero Que Sea JUEVES ♥</td>\n",
       "      <td>web</td>\n",
       "      <td>None</td>\n",
       "      <td>None</td>\n",
       "      <td>None</td>\n",
       "      <td>0</td>\n",
       "      <td>None</td>\n",
       "    </tr>\n",
       "    <tr>\n",
       "      <th>49</th>\n",
       "      <td>G. Ajalla</td>\n",
       "      <td>GuilhermeAjalla</td>\n",
       "      <td>Thu May 29 00:00:44 +0000 2014</td>\n",
       "      <td>471803289961758720</td>\n",
       "      <td>@Brubibis Esses parasitas. Deixam-nos indeciso...</td>\n",
       "      <td>web</td>\n",
       "      <td>523746253</td>\n",
       "      <td>Brubibis</td>\n",
       "      <td>471802946280501250</td>\n",
       "      <td>0</td>\n",
       "      <td>None</td>\n",
       "    </tr>\n",
       "    <tr>\n",
       "      <th>50</th>\n",
       "      <td>Amy-Ann•</td>\n",
       "      <td>xamywatson</td>\n",
       "      <td>Thu May 29 00:00:44 +0000 2014</td>\n",
       "      <td>471803289932406784</td>\n",
       "      <td>Actually love my bestfriend so much 🌎❤️</td>\n",
       "      <td>&lt;a href=\"http://twitter.com/download/iphone\" r...</td>\n",
       "      <td>None</td>\n",
       "      <td>None</td>\n",
       "      <td>None</td>\n",
       "      <td>0</td>\n",
       "      <td>None</td>\n",
       "    </tr>\n",
       "    <tr>\n",
       "      <th>51</th>\n",
       "      <td>Alexandra✌️</td>\n",
       "      <td>hayyimalex</td>\n",
       "      <td>Thu May 29 00:00:44 +0000 2014</td>\n",
       "      <td>471803289953382401</td>\n",
       "      <td>RT @Ellington_Chick: R5 are probably just look...</td>\n",
       "      <td>&lt;a href=\"http://twitter.com/download/iphone\" r...</td>\n",
       "      <td>None</td>\n",
       "      <td>None</td>\n",
       "      <td>None</td>\n",
       "      <td>0</td>\n",
       "      <td>None</td>\n",
       "    </tr>\n",
       "  </tbody>\n",
       "</table>\n",
       "</div>"
      ],
      "text/plain": [
       "             name      screen_name                      created_at  \\\n",
       "47        Lucre ♡    LucreAndrioli  Thu May 29 00:00:44 +0000 2014   \n",
       "48  Matias Schaab  misterchorizo23  Thu May 29 00:00:44 +0000 2014   \n",
       "49      G. Ajalla  GuilhermeAjalla  Thu May 29 00:00:44 +0000 2014   \n",
       "50       Amy-Ann•       xamywatson  Thu May 29 00:00:44 +0000 2014   \n",
       "51    Alexandra✌️       hayyimalex  Thu May 29 00:00:44 +0000 2014   \n",
       "\n",
       "                id_str                                               text  \\\n",
       "47  471803289957580802                      Cande linda, mi amorr te amo♥   \n",
       "48  471803289957568512                            Quiero Que Sea JUEVES ♥   \n",
       "49  471803289961758720  @Brubibis Esses parasitas. Deixam-nos indeciso...   \n",
       "50  471803289932406784            Actually love my bestfriend so much 🌎❤️   \n",
       "51  471803289953382401  RT @Ellington_Chick: R5 are probably just look...   \n",
       "\n",
       "                                               source in_reply_to_user_id  \\\n",
       "47  <a href=\"http://twitter.com/download/android\" ...                None   \n",
       "48                                                web                None   \n",
       "49                                                web           523746253   \n",
       "50  <a href=\"http://twitter.com/download/iphone\" r...                None   \n",
       "51  <a href=\"http://twitter.com/download/iphone\" r...                None   \n",
       "\n",
       "   in_reply_to_screen_name in_reply_to_status_id  retweet_count contributors  \n",
       "47                    None                  None              0         None  \n",
       "48                    None                  None              0         None  \n",
       "49                Brubibis    471802946280501250              0         None  \n",
       "50                    None                  None              0         None  \n",
       "51                    None                  None              0         None  "
      ]
     },
     "execution_count": 88,
     "metadata": {},
     "output_type": "execute_result"
    }
   ],
   "source": [
    "df_tweet[47:52]"
   ]
  },
  {
   "cell_type": "code",
   "execution_count": 90,
   "metadata": {},
   "outputs": [
    {
     "data": {
      "text/plain": [
       "['(\\'Lucre ♡\\', \\'LucreAndrioli\\', \\'Thu May 29 00:00:44 +0000 2014\\', \\'471803289957580802\\', \\'Cande linda, mi amorr te amo♥\\', \\'<a href=\"http://twitter.com/download/android\" rel=\"nofollow\">Twitter for Android</a>\\', None, None, None, 0, None)\\n',\n",
       " \"('Matias Schaab', 'misterchorizo23', 'Thu May 29 00:00:44 +0000 2014', '471803289957568512', 'Quiero Que Sea JUEVES ♥', 'web', None, None, None, 0, None)\\n\",\n",
       " \"('G. Ajalla', 'GuilhermeAjalla', 'Thu May 29 00:00:44 +0000 2014', '471803289961758720', '@Brubibis Esses parasitas. Deixam-nos indecisos do que realmente esta acontecendo.', 'web', '523746253', 'Brubibis', '471802946280501250', 0, None)\\n\",\n",
       " '(\\'Amy-Ann•\\', \\'xamywatson\\', \\'Thu May 29 00:00:44 +0000 2014\\', \\'471803289932406784\\', \\'Actually love my bestfriend so much 🌎❤️\\', \\'<a href=\"http://twitter.com/download/iphone\" rel=\"nofollow\">Twitter for iPhone</a>\\', None, None, None, 0, None)\\n',\n",
       " '(\\'Alexandra✌️\\', \\'hayyimalex\\', \\'Thu May 29 00:00:44 +0000 2014\\', \\'471803289953382401\\', \\'RT @Ellington_Chick: R5 are probably just looking at their TL laughing grinning like the little shits they are\\', \\'<a href=\"http://twitter.com/download/iphone\" rel=\"nofollow\">Twitter for iPhone</a>\\', None, None, None, 0, None)\\n']"
      ]
     },
     "execution_count": 90,
     "metadata": {},
     "output_type": "execute_result"
    }
   ],
   "source": [
    "#Check the \"Q4b.txt\" Records\n",
    "content=open(\"Q4b.txt\",\"r\").readlines()\n",
    "content[47:52]"
   ]
  },
  {
   "cell_type": "markdown",
   "metadata": {
    "collapsed": true
   },
   "source": [
    "#Question: 4-c:\n",
    "\n",
    "##1.) Insert the tweet_count column to User Table\n",
    "##2.) Report the User Name with the the most tweets (=Max tweet_count): Name of user: Alma Arafat, count = 61"
   ]
  },
  {
   "cell_type": "code",
   "execution_count": 91,
   "metadata": {},
   "outputs": [
    {
     "data": {
      "text/plain": [
       "[('Alma Arafat', 61)]"
      ]
     },
     "execution_count": 91,
     "metadata": {},
     "output_type": "execute_result"
    }
   ],
   "source": [
    "#Display the User Name and tweet_count with the Max number of tweet\n",
    "conn=sqlite3.connect('zFinal.db')\n",
    "c=conn.cursor()\n",
    "data=c.execute(\"select name, max(tweet2.AA) from user join(select user_id,count(id_str) as AA from tweet group by user_id) tweet2 where user_id=id \").fetchall() \n",
    "conn.commit()\n",
    "conn.close()\n",
    "data"
   ]
  },
  {
   "cell_type": "code",
   "execution_count": 92,
   "metadata": {},
   "outputs": [
    {
     "name": "stdout",
     "output_type": "stream",
     "text": [
      "Total run time is: 178.83060717582703\n"
     ]
    }
   ],
   "source": [
    "#Create New column and output to a Txt file\n",
    "import pandas as pd\n",
    "import time\n",
    "\n",
    "conn=sqlite3.connect('zFinal.db')\n",
    "c=conn.cursor()\n",
    "\n",
    "#Start time\n",
    "start=time.time()\n",
    "query=\"select id,name,screen_name,description, friends_count,count(id_str) AS tweet_count from tweet, user where id=user_id group by id having count(id_str) order by tweet_count Desc ;\"\n",
    "#Query the SQLITE to output the entire User table with Tweet_count column to DataFrame\n",
    "df_user = pd.read_sql_query(query, conn) #Query to form a DataFrame \n",
    "df_user = df_user.where((pd.notnull(df_user)), None) #Replace all the nan/null cell to None\n",
    "\n",
    "#Output the above dataframe to Txt file\n",
    "with open(\"Q4c.txt\",\"a\") as file:\n",
    "    for i in range(df_user.shape[0]):\n",
    "        print(tuple(df_user.ix[i]),file=file)\n",
    "#End Time\n",
    "end=time.time()\n",
    "\n",
    "file.close()\n",
    "conn.commit()\n",
    "conn.close()\n",
    "\n",
    "print(\"Total run time is:\", str(end-start))"
   ]
  },
  {
   "cell_type": "code",
   "execution_count": 93,
   "metadata": {},
   "outputs": [
    {
     "data": {
      "text/html": [
       "<div>\n",
       "<table border=\"1\" class=\"dataframe\">\n",
       "  <thead>\n",
       "    <tr style=\"text-align: right;\">\n",
       "      <th></th>\n",
       "      <th>id</th>\n",
       "      <th>name</th>\n",
       "      <th>screen_name</th>\n",
       "      <th>description</th>\n",
       "      <th>friends_count</th>\n",
       "      <th>tweet_count</th>\n",
       "    </tr>\n",
       "  </thead>\n",
       "  <tbody>\n",
       "    <tr>\n",
       "      <th>0</th>\n",
       "      <td>2374595534</td>\n",
       "      <td>Alma Arafat</td>\n",
       "      <td>ArafatPidip</td>\n",
       "      <td>Second Account dari @AfatArafaat</td>\n",
       "      <td>70</td>\n",
       "      <td>61</td>\n",
       "    </tr>\n",
       "    <tr>\n",
       "      <th>1</th>\n",
       "      <td>1958482998</td>\n",
       "      <td>HEXAREVOLVER</td>\n",
       "      <td>HEXAREVOLVER</td>\n",
       "      <td>Official account HEXAREVOLVER</td>\n",
       "      <td>299</td>\n",
       "      <td>44</td>\n",
       "    </tr>\n",
       "    <tr>\n",
       "      <th>2</th>\n",
       "      <td>66652699</td>\n",
       "      <td>Sports Answerbank</td>\n",
       "      <td>SportsAB</td>\n",
       "      <td>None</td>\n",
       "      <td>8</td>\n",
       "      <td>37</td>\n",
       "    </tr>\n",
       "    <tr>\n",
       "      <th>3</th>\n",
       "      <td>1374693672</td>\n",
       "      <td>あああああああああああああああああああ</td>\n",
       "      <td>colorado_null</td>\n",
       "      <td>ああああああああああああああああああああああああああああああああああああああああああああああ...</td>\n",
       "      <td>46</td>\n",
       "      <td>22</td>\n",
       "    </tr>\n",
       "    <tr>\n",
       "      <th>4</th>\n",
       "      <td>770980550</td>\n",
       "      <td>ゆうきしゃん\\n</td>\n",
       "      <td>85318081</td>\n",
       "      <td>NikonのD40X使ってまーす(´･_･`)</td>\n",
       "      <td>156</td>\n",
       "      <td>22</td>\n",
       "    </tr>\n",
       "  </tbody>\n",
       "</table>\n",
       "</div>"
      ],
      "text/plain": [
       "           id                 name    screen_name  \\\n",
       "0  2374595534          Alma Arafat    ArafatPidip   \n",
       "1  1958482998         HEXAREVOLVER   HEXAREVOLVER   \n",
       "2    66652699    Sports Answerbank       SportsAB   \n",
       "3  1374693672  あああああああああああああああああああ  colorado_null   \n",
       "4   770980550             ゆうきしゃん\\n       85318081   \n",
       "\n",
       "                                         description  friends_count  \\\n",
       "0                   Second Account dari @AfatArafaat             70   \n",
       "1                      Official account HEXAREVOLVER            299   \n",
       "2                                               None              8   \n",
       "3  ああああああああああああああああああああああああああああああああああああああああああああああ...             46   \n",
       "4                            NikonのD40X使ってまーす(´･_･`)            156   \n",
       "\n",
       "   tweet_count  \n",
       "0           61  \n",
       "1           44  \n",
       "2           37  \n",
       "3           22  \n",
       "4           22  "
      ]
     },
     "execution_count": 93,
     "metadata": {},
     "output_type": "execute_result"
    }
   ],
   "source": [
    "#Check the user table from dataframe\n",
    "df_user.head()"
   ]
  },
  {
   "cell_type": "code",
   "execution_count": 94,
   "metadata": {},
   "outputs": [
    {
     "data": {
      "text/plain": [
       "[\"('2374595534', 'Alma Arafat', 'ArafatPidip', 'Second Account dari @AfatArafaat', 70, 61)\\n\",\n",
       " \"('1958482998', 'HEXAREVOLVER', 'HEXAREVOLVER', 'Official account HEXAREVOLVER', 299, 44)\\n\",\n",
       " \"('66652699', 'Sports Answerbank', 'SportsAB', None, 8, 37)\\n\",\n",
       " \"('1374693672', 'あああああああああああああああああああ', 'colorado_null', 'ああああああああああああああああああああああああああああああああああああああああああああああああああああああああああああああああああああああああああああああああああああああああああああああああああああああああああああああああああああああああああああああああああああああああああああああああああああああああああああああああ', 46, 22)\\n\",\n",
       " \"('770980550', 'ゆうきしゃん\\\\n', '85318081', 'NikonのD40X使ってまーす(´･_･`)', 156, 22)\\n\",\n",
       " \"('1448837792', None, 'tweetkasegida', None, 0, 21)\\n\",\n",
       " \"('1717183141', 'viaあみの', 'ValaLell', '@7__su←肉便器', 189, 20)\\n\",\n",
       " \"('1247697384', '恋ヶ崎', '__5i', 'お前らが恋するたびに俺が生まれる｡\\\\n(( Sub / @SHlTTO @5118 @51o ))', 7, 19)\\n\",\n",
       " \"('107612546', 'Первый минский. ', 'm1pluss', 'Первый минский. Сайт Минска и минский форум.\\\\r\\\\nСайт Минска. Новости и объявления Минска. Работа, авто и недвижимость Минска, фото  и видео Минска', 1612, 18)\\n\",\n",
       " \"('2433446852', 'سـعــوديــة', 'arbsssex', None, 0, 18)\\n\"]"
      ]
     },
     "execution_count": 94,
     "metadata": {},
     "output_type": "execute_result"
    }
   ],
   "source": [
    "#Double check the txt file content, the last column is \"tweet_count\"\n",
    "data=open(\"Q4c.txt\",\"r\").readlines()\n",
    "data[0:10]"
   ]
  },
  {
   "cell_type": "code",
   "execution_count": null,
   "metadata": {
    "collapsed": true
   },
   "outputs": [],
   "source": []
  },
  {
   "cell_type": "code",
   "execution_count": null,
   "metadata": {
    "collapsed": true
   },
   "outputs": [],
   "source": []
  },
  {
   "cell_type": "code",
   "execution_count": null,
   "metadata": {
    "collapsed": true
   },
   "outputs": [],
   "source": []
  }
 ],
 "metadata": {
  "kernelspec": {
   "display_name": "Python 3",
   "language": "python",
   "name": "python3"
  },
  "language_info": {
   "codemirror_mode": {
    "name": "ipython",
    "version": 3
   },
   "file_extension": ".py",
   "mimetype": "text/x-python",
   "name": "python",
   "nbconvert_exporter": "python",
   "pygments_lexer": "ipython3",
   "version": "3.6.0"
  }
 },
 "nbformat": 4,
 "nbformat_minor": 2
}
